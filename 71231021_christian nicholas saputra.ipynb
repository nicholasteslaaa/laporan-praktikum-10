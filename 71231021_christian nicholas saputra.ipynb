{
 "cells": [
  {
   "cell_type": "markdown",
   "id": "c5769d9b",
   "metadata": {},
   "source": [
    "latihan mandiri 1"
   ]
  },
  {
   "cell_type": "code",
   "execution_count": null,
   "id": "8e0ffda3",
   "metadata": {},
   "outputs": [],
   "source": [
    "Dictionary = {1: 10, 2: 20, 3: 30, 4: 40, 5: 50, 6: 60}\n",
    "\n",
    "print(\"key\\tvalue\\titem\")\n",
    "item = 0\n",
    "for key,value in Dictionary.items():\n",
    "    item += 1\n",
    "    print(f\"{key}\\t{value}\\t{item}\")"
   ]
  },
  {
   "cell_type": "markdown",
   "id": "150c60a7",
   "metadata": {},
   "source": [
    "latihan mandiri 2"
   ]
  },
  {
   "cell_type": "code",
   "execution_count": null,
   "id": "ff0a7379",
   "metadata": {},
   "outputs": [],
   "source": [
    "Lista = ['red', 'green', 'blue']\n",
    "Listb = ['#FF0000','#008000', '#0000FF']\n",
    "\n",
    "result = dict()\n",
    "for key, value in zip(Lista,Listb):\n",
    "    result.update({key:value})\n",
    "\n",
    "print(result)"
   ]
  },
  {
   "cell_type": "markdown",
   "id": "280034b8",
   "metadata": {},
   "source": [
    "latihan mandiri 3"
   ]
  },
  {
   "cell_type": "code",
   "execution_count": 2,
   "id": "5ffbe157",
   "metadata": {},
   "outputs": [
    {
     "name": "stdout",
     "output_type": "stream",
     "text": [
      "{'stephen.marquard@uct.ac.za': 2, 'louis@media.berkeley.edu': 3, 'zqian@umich.edu': 4, 'rjlowe@iupui.edu': 2, 'cwen@iupui.edu': 5, 'gsilver@umich.edu': 3, 'wagnermr@iupui.edu': 1, 'antranig@caret.cam.ac.uk': 1, 'gopal.ramasammycook@gmail.com': 1, 'david.horwitz@uct.ac.za': 4, 'ray@media.berkeley.edu': 1}\n"
     ]
    }
   ],
   "source": [
    "file = open(\"mbox-short.txt\")\n",
    "\n",
    "result = {}\n",
    "\n",
    "for line in file:\n",
    "    if line.startswith(\"From \"):\n",
    "        words = line.split()\n",
    "        if len(words) > 1:\n",
    "            email = words[1]\n",
    "            if \"@\" in email:\n",
    "                if email in result:\n",
    "                    result[email] += 1\n",
    "                else:\n",
    "                    result[email] = 1\n",
    "\n",
    "print(result)"
   ]
  },
  {
   "cell_type": "markdown",
   "id": "e025cbbe",
   "metadata": {},
   "source": [
    "latihan mandiri 4"
   ]
  },
  {
   "cell_type": "code",
   "execution_count": 1,
   "id": "e6196807",
   "metadata": {},
   "outputs": [
    {
     "name": "stdout",
     "output_type": "stream",
     "text": [
      "{'uct.ac.za': 6, 'media.berkeley.edu': 4, 'umich.edu': 7, 'iupui.edu': 8, 'caret.cam.ac.uk': 1, 'gmail.com': 1}\n"
     ]
    }
   ],
   "source": [
    "file = open(\"mbox-short.txt\")\n",
    "\n",
    "result = {}\n",
    "domain = {}\n",
    "\n",
    "for line in file:\n",
    "    if line.startswith(\"From \"):\n",
    "        words = line.split()\n",
    "        if len(words) > 1:\n",
    "            email = words[1]\n",
    "            if \"@\" in email:\n",
    "                if email in result:\n",
    "                    result[email] += 1\n",
    "                else:\n",
    "                    result[email] = 1    \n",
    "\n",
    "for key, value in result.items():\n",
    "    if key[str(key).find(\"@\")+1:] not in domain:\n",
    "        domain.update({key[str(key).find(\"@\")+1:]:value})\n",
    "    else:\n",
    "        domain[key[str(key).find(\"@\")+1:]] += value\n",
    "        \n",
    "print(domain)"
   ]
  }
 ],
 "metadata": {
  "kernelspec": {
   "display_name": "Python 3",
   "language": "python",
   "name": "python3"
  },
  "language_info": {
   "codemirror_mode": {
    "name": "ipython",
    "version": 3
   },
   "file_extension": ".py",
   "mimetype": "text/x-python",
   "name": "python",
   "nbconvert_exporter": "python",
   "pygments_lexer": "ipython3",
   "version": "3.12.1"
  }
 },
 "nbformat": 4,
 "nbformat_minor": 5
}
